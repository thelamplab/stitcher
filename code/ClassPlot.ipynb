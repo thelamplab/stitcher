{
 "cells": [
  {
   "cell_type": "code",
   "execution_count": null,
   "metadata": {
    "collapsed": true
   },
   "outputs": [],
   "source": [
    "import numpy as np\n",
    "import pandas as pd\n",
    "from datetime import datetime, date\n",
    "import cv2\n",
    "import time\n",
    "from PIL import Image\n",
    "import os\n",
    "import matplotlib as mpl\n",
    "mpl.rc('font',family='Arial Narrow')\n",
    "import matplotlib.pyplot as plt\n",
    "import matplotlib.image as mpimg\n",
    "from matplotlib.cbook import get_sample_data\n",
    "from matplotlib.offsetbox import (TextArea, DrawingArea, OffsetImage,\n",
    "                                  AnnotationBbox)\n",
    "from scipy.io.wavfile import write\n",
    "import sys"
   ]
  },
  {
   "cell_type": "markdown",
   "metadata": {},
   "source": [
    "Type in the course and date for the video below, using the following format as an example:\n",
    "\n",
    "- course = Psych100\n",
    "- course2 = PSYCH 100\n",
    "- theDate = yyyy-mm-dd\n",
    "- term = F2019\n",
    "\n",
    "`course` and `theDate` should be exactly as they appear in the video title. `course2` is usually `course` with all letters capitalized and a space added between letters and numbers."
   ]
  },
  {
   "cell_type": "code",
   "execution_count": null,
   "metadata": {
    "collapsed": true
   },
   "outputs": [],
   "source": [
    "#select date of video and course\n",
    "course = 'Psych261'\n",
    "course2 = 'PSYCH 261'\n",
    "theDate = '2019-10-30'\n",
    "term = 'F2019'"
   ]
  },
  {
   "cell_type": "markdown",
   "metadata": {},
   "source": [
    "a dictionary of start times for all classes included"
   ]
  },
  {
   "cell_type": "code",
   "execution_count": null,
   "metadata": {
    "collapsed": true
   },
   "outputs": [],
   "source": [
    "startDict = dict(zip(['PSYCH 261'], \n",
    "                     ['13:00:00.000000']))"
   ]
  },
  {
   "cell_type": "code",
   "execution_count": null,
   "metadata": {
    "collapsed": true
   },
   "outputs": [],
   "source": [
    "## TO DO retrieve threshold from metadata, after programming it in\n",
    "def read_meta(course, date):\n",
    "    with open('./../output/{}/{}_meta.txt'.format(course, date)) as metadata:\n",
    "        meta = metadata.read() \n",
    "    dur, fps, fin, frames = meta.split(' ')\n",
    "    return int(dur), np.float32(fps), int(fin), int(frames)\n",
    "\n",
    "def im_to_plot(imfile, axis, x, y, yoffset=0, scale=0.5):\n",
    "    arr_img = plt.imread(imfile, format='gif')\n",
    "\n",
    "    imagebox = OffsetImage(arr_img, zoom=scale)\n",
    "    imagebox.image.axes = axis\n",
    "    im = AnnotationBbox(imagebox, (x, y),\n",
    "                        xybox=(x, y+yoffset),\n",
    "                        xycoords='data',\n",
    "                        boxcoords='data',\n",
    "                        pad=0,\n",
    "                        arrowprops=dict(\n",
    "                            arrowstyle=\"->\",\n",
    "                            connectionstyle=\"angle,angleA=0,angleB=90,rad=3\")\n",
    "                        )\n",
    "    axis.add_artist(im)\n",
    "    \n",
    "def im_to_vert(imfile, axis, x, y, xoffset=0, scale=0.5):\n",
    "    arr_img = plt.imread(imfile, format='gif')\n",
    "\n",
    "    imagebox = OffsetImage(arr_img, zoom=scale)\n",
    "    imagebox.image.axes = axis\n",
    "    im = AnnotationBbox(imagebox, (x, y),\n",
    "                        xybox=(x+xoffset, y),\n",
    "                        xycoords='data',\n",
    "                        boxcoords='data',\n",
    "                        pad=0,\n",
    "                        arrowprops=dict(width=10, headwidth=14, headlength=30)\n",
    "                        \n",
    "                        )\n",
    "    axis.add_artist(im)"
   ]
  },
  {
   "cell_type": "code",
   "execution_count": null,
   "metadata": {},
   "outputs": [],
   "source": [
    "# Set threshold - to be deprecated after this is coded in the metadata\n",
    "thresh = 0.95\n",
    "changes = np.load('./../output/{}/{}_pixelchange.npy'.format(course, theDate))\n",
    "dur, fps, fin, frames = read_meta(course, theDate)\n",
    "framespan = np.array(range(len(changes)))\n",
    "timespan = (framespan * 100)/fps/60\n",
    "whereCaps = np.zeros((len(framespan)))\n",
    "whereCaps[changes > (1-thresh)] = 1\n",
    "whereCaps[changes <= (1-thresh)] = np.nan\n",
    "numCatches = np.nansum(whereCaps)\n",
    "Files = [i for i in os.listdir('./../output/{}'.format(course)) if i.split('.')[1]=='gif']\n",
    "Files = [i for i in Files if i.split('_')[0]==theDate]\n",
    "Files = sorted(Files, key = lambda x: int(x.split('_')[1]))\n",
    "onlySwaps = timespan[whereCaps == 1]\n",
    "\n",
    "assert len(Files) == int(numCatches) == onlySwaps.shape[0]\n",
    "\n"
   ]
  },
  {
   "cell_type": "code",
   "execution_count": null,
   "metadata": {},
   "outputs": [],
   "source": [
    "### Preprocess probe data\n",
    "\n",
    "probeDat = pd.read_csv('./../data/{}/Pooled_Data.csv'.format(term))\n",
    "allTimes = [i.split(' ')[0] for i in list(probeDat['start_time'])]\n",
    "allDates = list(np.unique(allTimes))\n",
    "\n",
    "\n",
    "thisCourse = probeDat[probeDat['class'] == course2]\n",
    "\n",
    "elapsed = []\n",
    "for row in range(thisCourse.shape[0]): \n",
    "    probeTime = datetime.combine(date.min, datetime.strptime(thisCourse['start_time'].iloc[row], '%Y-%m-%d %H:%M:%S.%f').time())\n",
    "    classStart = startDict[thisCourse['class'].iloc[row]]\n",
    "    classStart = datetime.combine(date.min, datetime.strptime(classStart, '%H:%M:%S.%f').time())\n",
    "    difference = probeTime - classStart\n",
    "    whenProbe = difference.total_seconds()/60\n",
    "    elapsed.append(whenProbe)\n",
    "\n",
    "thisCourse['elapsed'] = np.array(elapsed)\n",
    "\n",
    "\n",
    "onlyResps = thisCourse[thisCourse['response_value'] != 'declined']\n",
    "onlyResps = onlyResps[onlyResps['response_value'] != 'timeout']\n",
    "onlyResps['response_value'] = onlyResps['response_value'].astype('float32')\n",
    "\n",
    "todaysResps = onlyResps[onlyResps['start_time'].str.contains(theDate)]\n",
    "\n",
    "todaysEngage = todaysResps[todaysResps['probe_type']=='range-engage']\n",
    "todaysUnder = todaysResps[todaysResps['probe_type']=='range-understand']\n",
    "courseEngage = onlyResps[onlyResps['probe_type']=='range-engage']\n",
    "courseUnder = onlyResps[onlyResps['probe_type']=='range-understand']\n",
    "\n",
    "print('{} total probes found in this class, {} on this day'.format(thisCourse.shape[0], todaysResps.shape[0]))\n",
    "\n",
    "fig, ax = plt.subplots(2,1, figsize=(6,2))\n",
    "ax[0].scatter(np.array(todaysEngage['elapsed']), np.array(todaysEngage['response_value']), color='blue')\n",
    "ax[1].scatter(np.array(todaysUnder['elapsed']), np.array(todaysUnder['response_value']), color='orange')\n",
    "plt.show()"
   ]
  },
  {
   "cell_type": "code",
   "execution_count": null,
   "metadata": {
    "collapsed": true
   },
   "outputs": [],
   "source": [
    "ws=20\n",
    "stdev=2\n",
    "sp = int((ws/2)-1)\n",
    "\n",
    "## simplify all points plot for display\n",
    "newDFs = []\n",
    "for measure in [courseEngage, courseUnder]:\n",
    "    measure = measure.sort_values(by=['elapsed'])\n",
    "    measure['rolling'] = measure['response_value'].rolling(ws, 5, center=True, \n",
    "                                                           win_type='gaussian').mean(std=stdev)\n",
    "    newDFs.append(measure)\n",
    "\n",
    "courseEngage, courseUnder = newDFs"
   ]
  },
  {
   "cell_type": "code",
   "execution_count": null,
   "metadata": {
    "collapsed": true
   },
   "outputs": [],
   "source": [
    "ws=6\n",
    "stdev=2\n",
    "sp = int((ws/2)-1)\n",
    "\n",
    "## simplify all points plot for display\n",
    "newDFs = []\n",
    "for measure in [todaysEngage, todaysUnder]:\n",
    "    measure = measure.sort_values(by=['elapsed'])\n",
    "    measure['rolling'] = measure['response_value'].rolling(ws, 5, center=True, \n",
    "                                                           win_type='gaussian').mean(std=stdev)\n",
    "    newDFs.append(measure)\n",
    "\n",
    "todaysEngage, todaysUnder = newDFs"
   ]
  },
  {
   "cell_type": "code",
   "execution_count": null,
   "metadata": {},
   "outputs": [],
   "source": [
    "## SELCT A SUBSET OF SLIDES FOR INSTRUCTORS TO RATE\n",
    "subset = Files[1:-1]\n",
    "\n",
    "subset=np.array(subset)\n",
    "print(subset.shape)\n",
    "np.random.seed(1)\n",
    "to_test = np.random.choice(subset, size=12, replace=False)\n",
    "print(to_test)"
   ]
  },
  {
   "cell_type": "code",
   "execution_count": null,
   "metadata": {},
   "outputs": [],
   "source": [
    "# read in video start and stop indices\n",
    "videodoc = np.load('./../output/{}/{}_videos.npy'.format(course, theDate))\n",
    "print('detected {} video playing'.format(videodoc.shape[0]))"
   ]
  },
  {
   "cell_type": "code",
   "execution_count": null,
   "metadata": {
    "collapsed": true
   },
   "outputs": [],
   "source": [
    "## should line be overall term, or just today?\n",
    "today = False"
   ]
  },
  {
   "cell_type": "code",
   "execution_count": null,
   "metadata": {
    "scrolled": true
   },
   "outputs": [],
   "source": [
    "fig,ax = plt.subplots(1,1,figsize=(32,16))\n",
    "trunChanges = np.array(changes)\n",
    "trunChanges[trunChanges > 0.2] = 0.2\n",
    "ax.plot(timespan,trunChanges,alpha=0.2)\n",
    "ax.axhline(1-thresh, c='g', ls='dashed', alpha=0.2, lw=2)\n",
    "ax.set_yticks(np.arange(0,1.5,0.2))\n",
    "ax.set_yticklabels(['LO', 'HI', '','','','','',''], fontsize=40, **{'fontname':'Arial Narrow'})\n",
    "ax.set_xticks(np.arange(0,81,20))\n",
    "ax.set_xticklabels(np.arange(0,81,20), fontsize=40, **{'fontname':'Arial Narrow'})\n",
    "ax.set_xlabel('Minutes Elapsed', fontsize=60, **{'fontname':'Arial Narrow'})\n",
    "ax.set_ylim(0,1.0)\n",
    "offset = 0.9\n",
    "\n",
    "for num in range(len(Files)):\n",
    "    for j in range(videodoc.shape[0]):\n",
    "        if num not in np.arange(videodoc[j,0]+1,videodoc[j,1]):\n",
    "            im_to_plot('./../output/{}/{}'.format(course, Files[num]), \n",
    "               ax, onlySwaps[num], 1-thresh, yoffset=offset, scale=0.25)\n",
    "            if np.around(offset,1) == 0.3:\n",
    "                climb = True\n",
    "            elif np.around(offset,1) == 0.9:\n",
    "                climb = False\n",
    "            if climb:\n",
    "                offset += 0.1\n",
    "            else:\n",
    "                offset -= 0.1\n",
    "    \n",
    "        \n",
    "engage = ax.scatter(np.array(todaysEngage['elapsed']), np.array(todaysEngage['response_value'])/500, \n",
    "                    color='blue', s=200, alpha=0.5)\n",
    "under = ax.scatter(np.array(todaysUnder['elapsed']), np.array(todaysUnder['response_value'])/500, \n",
    "                   color='orange', s=200, alpha=0.5)\n",
    "if today:\n",
    "    engagestem = 'Engagement Moving Avg'\n",
    "    understem = 'Understanding Moving Avg'\n",
    "    allEngage = ax.plot(todaysEngage['elapsed'].iloc[sp:-sp], todaysEngage['rolling'].iloc[sp:-sp]/500, color='blue')\n",
    "    allUnder = ax.plot(todaysUnder['elapsed'].iloc[sp:-sp], todaysUnder['rolling'].iloc[sp:-sp]/500, color='orange')\n",
    "else:\n",
    "    engagestem = 'Term Engagement'\n",
    "    understem = 'Term Understanding'\n",
    "    allEngage = ax.plot(courseEngage['elapsed'].iloc[sp:-sp], courseEngage['rolling'].iloc[sp:-sp]/500, color='blue')\n",
    "    allUnder = ax.plot(courseUnder['elapsed'].iloc[sp:-sp], courseUnder['rolling'].iloc[sp:-sp]/500, color='orange')\n",
    "\n",
    "allClass = plt.plot()\n",
    "ax.legend((engage, allEngage[0], under, allUnder[0]), \n",
    "          ('Engagement', engagestem, 'Understanding', understem), loc=(0,0.22), \n",
    "          mode='expand', ncol=4, fontsize=30)\n",
    "plt.savefig('./../output/{}/{}_{}.png'.format(course, theDate, course), dpi=300)\n",
    "plt.show()"
   ]
  },
  {
   "cell_type": "code",
   "execution_count": null,
   "metadata": {
    "collapsed": true
   },
   "outputs": [],
   "source": []
  },
  {
   "cell_type": "code",
   "execution_count": null,
   "metadata": {
    "collapsed": true
   },
   "outputs": [],
   "source": []
  }
 ],
 "metadata": {
  "@webio": {
   "lastCommId": null,
   "lastKernelId": null
  },
  "kernelspec": {
   "display_name": "Python 3",
   "language": "python",
   "name": "python3"
  },
  "language_info": {
   "codemirror_mode": {
    "name": "ipython",
    "version": 3
   },
   "file_extension": ".py",
   "mimetype": "text/x-python",
   "name": "python",
   "nbconvert_exporter": "python",
   "pygments_lexer": "ipython3",
   "version": "3.6.2"
  }
 },
 "nbformat": 4,
 "nbformat_minor": 2
}
