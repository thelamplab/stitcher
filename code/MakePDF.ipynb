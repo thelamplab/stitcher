{
 "cells": [
  {
   "cell_type": "code",
   "execution_count": null,
   "metadata": {
    "collapsed": true
   },
   "outputs": [],
   "source": [
    "from PIL import Image\n",
    "import os\n",
    "import matplotlib.pyplot as plt\n",
    "import numpy as np"
   ]
  },
  {
   "cell_type": "markdown",
   "metadata": {},
   "source": [
    "Type in the course and date for the video below, using the following format as an example:\n",
    "\n",
    "- course = Psych100\n",
    "- theDate = yyyy-mm-dd\n",
    "\n",
    "Course and date should be exactly as they appear in the video title"
   ]
  },
  {
   "cell_type": "code",
   "execution_count": null,
   "metadata": {
    "collapsed": true
   },
   "outputs": [],
   "source": [
    "# Replace these fields\n",
    "course = 'Psych261'\n",
    "theDate = '2019-11-04'"
   ]
  },
  {
   "cell_type": "code",
   "execution_count": null,
   "metadata": {},
   "outputs": [],
   "source": [
    "grabs = [g for g in os.listdir('./../output/{}'.format(course)) if g.split('_')[0] == theDate]\n",
    "grabs = [g for g in grabs if g.split('.')[-1] == 'gif']\n",
    "grabs = sorted(grabs, key=lambda x: float(x.split('_')[-1].split('.gif')[0]))\n",
    "print('{} frames found'.format(len(grabs)))\n",
    "onsets = [int(g.split('.gif')[0].split('_')[-1]) for g in grabs]\n",
    "fig, ax = plt.subplots(figsize = (25,2))\n",
    "plt.scatter(onsets, np.ones(len(onsets)))\n",
    "plt.show()"
   ]
  },
  {
   "cell_type": "code",
   "execution_count": null,
   "metadata": {},
   "outputs": [],
   "source": [
    "durs = [100]\n",
    "starts = []\n",
    "stops = []\n",
    "vid = False\n",
    "for i, (ons, im) in enumerate(zip(onsets, grabs)):\n",
    "    if i > 1:\n",
    "        dur = ons - prev\n",
    "        durs.append(dur)\n",
    "    if len(durs) > 10:\n",
    "        avgdur = np.mean(durs[(i-10):i])\n",
    "        if avgdur < 201:\n",
    "            if not vid:\n",
    "                print('{} likely a video onset'.format(grabs[i-11]))\n",
    "                vid = True\n",
    "                starts.append(i-11)\n",
    "        elif vid:\n",
    "            print('{} likely a video offset'.format(grabs[i-1]))\n",
    "            vid = False\n",
    "            stops.append(i-1)\n",
    "    prev = ons*1\n",
    "if len(starts) > 0:\n",
    "    videodoc = np.vstack((starts, stops)).T\n",
    "    np.save('./../output/{}/{}_videos.npy'.format(course, theDate), videodoc)\n",
    "\n"
   ]
  },
  {
   "cell_type": "code",
   "execution_count": null,
   "metadata": {},
   "outputs": [],
   "source": [
    "images = []\n",
    "vidnum = 0\n",
    "doc = True\n",
    "for i, im in enumerate(grabs):\n",
    "    if i == 0:\n",
    "        im0 = Image.open('./../output/{}/{}'.format(course, im))\n",
    "    else:\n",
    "        if doc:\n",
    "            im1 = Image.open('./../output/{}/{}'.format(course, im))\n",
    "            if len(starts) > vidnum and i-1 == starts[vidnum]:\n",
    "                nextstop = stops[vidnum]\n",
    "                vidnum +=1\n",
    "                images.append(Image.fromarray(np.array(im1)-np.array(im1)))\n",
    "                doc = False\n",
    "            else:\n",
    "                images.append(im1)\n",
    "        else:\n",
    "            if i+1 == nextstop:\n",
    "                doc = True\n",
    "\n",
    "pdfname = \"./../output/{}/{}.pdf\".format(course, theDate)\n",
    "subname = \"./../output/{}/{}_subset.pdf\".format(course, theDate)\n",
    "\n",
    "im0.save(pdfname, \"PDF\", resolution=100.0, save_all=True, append_images=images)\n",
    "print('saved PDF for {} on {}'.format(course, theDate))"
   ]
  },
  {
   "cell_type": "code",
   "execution_count": null,
   "metadata": {
    "collapsed": true
   },
   "outputs": [],
   "source": []
  }
 ],
 "metadata": {
  "@webio": {
   "lastCommId": null,
   "lastKernelId": null
  },
  "kernelspec": {
   "display_name": "Python 3",
   "language": "python",
   "name": "python3"
  },
  "language_info": {
   "codemirror_mode": {
    "name": "ipython",
    "version": 3
   },
   "file_extension": ".py",
   "mimetype": "text/x-python",
   "name": "python",
   "nbconvert_exporter": "python",
   "pygments_lexer": "ipython3",
   "version": "3.6.2"
  }
 },
 "nbformat": 4,
 "nbformat_minor": 2
}
